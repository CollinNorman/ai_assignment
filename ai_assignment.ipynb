{
 "cells": [
  {
   "cell_type": "markdown",
   "id": "c71cffb1-080c-4cfc-891a-f21b94689d78",
   "metadata": {},
   "source": [
    "Prompt: In python, load pandas as pd, seaborn as sns, matplotlib.pyplot as plt, plotly.express as px, sklearn.model_selection as train_test_split, sklearn.preprocessing as StandardScaler, sklearn.neighbors as KNeighborsClassifier, and sklearn.metrics as confusion_matrix, classification_report, accuracy_score, precision_score, recall_score, and f1_score.\n",
    "\n",
    "AI: ChatGPT-4o"
   ]
  },
  {
   "cell_type": "code",
   "execution_count": null,
   "id": "a77e66c3-59d9-431f-82cd-d9a7aa61d2ef",
   "metadata": {},
   "outputs": [],
   "source": [
    "import pandas as pd\n",
    "import seaborn as sns\n",
    "import matplotlib.pyplot as plt\n",
    "import plotly.express as px\n",
    "from sklearn.model_selection import train_test_split\n",
    "from sklearn.preprocessing import StandardScaler\n",
    "from sklearn.neighbors import KNeighborsClassifier\n",
    "from sklearn.metrics import (\n",
    "    confusion_matrix,\n",
    "    classification_report,\n",
    "    accuracy_score,\n",
    "    precision_score,\n",
    "    recall_score,\n",
    "    f1_score\n",
    ")"
   ]
  },
  {
   "cell_type": "markdown",
   "id": "3f0c8c63-c56e-457e-a669-5e5af0a175d6",
   "metadata": {},
   "source": [
    "Prompt: Now, load data called card_transdata.csv named file_path, then read the csv named as transaction_data_raw and then display the first few rows of the dataset.\n",
    "\n",
    "AI: ChatGPT-4o"
   ]
  },
  {
   "cell_type": "code",
   "execution_count": null,
   "id": "6ce95304-97f4-4d23-8a6a-d5b468d5ed23",
   "metadata": {},
   "outputs": [],
   "source": [
    "# Load the dataset\n",
    "file_path = 'card_transdata.csv'  # Path to your CSV file\n",
    "transaction_data_raw = pd.read_csv(file_path)\n",
    "\n",
    "# Display the first few rows of the dataset\n",
    "transaction_data_raw.head()"
   ]
  },
  {
   "cell_type": "markdown",
   "id": "85bc8a26-6a3a-43c7-b9ae-52feba17d8da",
   "metadata": {},
   "source": [
    "Prompt: Now, show me how to see the shape of the dataset and information on the columns.\n",
    "\n",
    "AI: ChatGPT-4o"
   ]
  },
  {
   "cell_type": "code",
   "execution_count": null,
   "id": "404cfef6-d3db-484d-a7a4-1648ce3f77e1",
   "metadata": {},
   "outputs": [],
   "source": [
    "# Display the shape of the dataset\n",
    "transaction_data_raw.shape\n",
    "\n",
    "# Get information about the dataset's columns\n",
    "transaction_data_raw.info()"
   ]
  },
  {
   "cell_type": "markdown",
   "id": "6bf2c1af-a9b8-4744-9a1b-2e8a2b49162f",
   "metadata": {},
   "source": [
    "Prompt: How do I see descriptions of the columns in the dataset.\n",
    "\n",
    "AI: ChatGPT-4o"
   ]
  },
  {
   "cell_type": "code",
   "execution_count": null,
   "id": "bf2bff9c-eb3b-494d-a329-9257fb4871d3",
   "metadata": {},
   "outputs": [],
   "source": [
    "transaction_data_raw.describe()"
   ]
  },
  {
   "cell_type": "markdown",
   "id": "08c937b5-5114-4cbf-a113-23b9f984e37b",
   "metadata": {},
   "source": [
    "Prompt: Now, write lines that checks for missing values, drops rows with nulls, and then displays the first few rows.\n",
    "\n",
    "AI: ChatGPT-4o"
   ]
  },
  {
   "cell_type": "code",
   "execution_count": null,
   "id": "c85afda2-3f71-4f1b-9259-d5e0eedab3ff",
   "metadata": {},
   "outputs": [],
   "source": [
    "# Drop rows with null values and create a copy\n",
    "transaction_data_cleaned = transaction_data_raw.dropna().copy()\n",
    "\n",
    "# Display the shape of the cleaned dataset\n",
    "transaction_data_cleaned.shape\n",
    "\n",
    "# Display the first few rows of the cleaned DataFrame\n",
    "transaction_data_cleaned.head()"
   ]
  },
  {
   "cell_type": "markdown",
   "id": "b5bb2409-9e64-4917-8d20-1173730afa64",
   "metadata": {},
   "source": [
    "Prompt: Create a bar plot with fraud as the x-value and the dataset as data, title the plot Fraud Class DIstribution, and then show the plot.\n",
    "\n",
    "AI: ChatGPT-4o"
   ]
  },
  {
   "cell_type": "code",
   "execution_count": null,
   "id": "8381abd0-39c8-45d1-9787-30d7bc577c74",
   "metadata": {},
   "outputs": [],
   "source": [
    "# Create a bar plot\n",
    "sns.countplot(x='fraud', data=transaction_data_cleaned)\n",
    "\n",
    "# Title the plot\n",
    "plt.title('Fraud Class Distribution')\n",
    "\n",
    "# Show the plot\n",
    "plt.show()"
   ]
  },
  {
   "cell_type": "markdown",
   "id": "d074c973-0f50-4ce3-8767-4ad79be283f5",
   "metadata": {},
   "source": [
    "Prompt: Now, create a barplot with used_pin_number as the x-value, Used Pin Distribution as the title, and show the plot.\n",
    "\n",
    "AI: ChatGPT-4o"
   ]
  },
  {
   "cell_type": "code",
   "execution_count": null,
   "id": "859bc7d3-d5f4-4c22-bcdf-f570ce2371c9",
   "metadata": {},
   "outputs": [],
   "source": [
    "# Create a bar plot\n",
    "sns.countplot(x='used_pin_number', data=transaction_data_cleaned)\n",
    "\n",
    "# Title the plot\n",
    "plt.title('Used Pin Distribution')\n",
    "\n",
    "# Show the plot\n",
    "plt.show()"
   ]
  },
  {
   "cell_type": "markdown",
   "id": "af74814c-f57d-46b2-98e6-8e8e48ca3bb2",
   "metadata": {},
   "source": [
    "Prompt: Show a barplot with repeat_retailer as the x-value, Repeat Retailer Distribution as the title, and show the plot.\n",
    "\n",
    "AI: ChatGPT-4o"
   ]
  },
  {
   "cell_type": "code",
   "execution_count": null,
   "id": "d81a83fa-a69e-4d57-9eac-b5aea1ab5204",
   "metadata": {},
   "outputs": [],
   "source": [
    "# Create a bar plot\n",
    "sns.countplot(x='repeat_retailer', data=transaction_data_cleaned)\n",
    "\n",
    "# Title the plot\n",
    "plt.title('Repeat Retailer Distribution')\n",
    "\n",
    "# Show the plot\n",
    "plt.show()"
   ]
  },
  {
   "cell_type": "markdown",
   "id": "759a54be-1274-425b-a7be-6c56e16fe6d2",
   "metadata": {},
   "source": [
    "Prompt: Show a barplot with used_chip on the x-axis, Used Chip Distribution as the title, and show the plot.\n",
    "\n",
    "AI: ChatGPT-4o"
   ]
  },
  {
   "cell_type": "code",
   "execution_count": null,
   "id": "d908938a-0128-49af-bcf1-fde99422e9f9",
   "metadata": {},
   "outputs": [],
   "source": [
    "# Create a bar plot\n",
    "sns.countplot(x='used_chip', data=transaction_data_cleaned)\n",
    "\n",
    "# Title the plot\n",
    "plt.title('Used Chip Distribution')\n",
    "\n",
    "# Show the plot\n",
    "plt.show()"
   ]
  },
  {
   "cell_type": "markdown",
   "id": "f53f679a-9f5f-4ce2-9031-60d7e33b6498",
   "metadata": {},
   "source": [
    "Prompt: Show a histogram with distance_from_last_transaction, having 30 bins, Distance From Last Transaction Distribution as the title, and show the plot.\n",
    "\n",
    "AI: ChatGPT-4o"
   ]
  },
  {
   "cell_type": "code",
   "execution_count": null,
   "id": "a9755b9a-89ff-4e25-838c-61c95bfe74e2",
   "metadata": {},
   "outputs": [],
   "source": [
    "# Create a histogram\n",
    "plt.hist(transaction_data_cleaned['distance_from_last_transaction'], bins=30)\n",
    "\n",
    "# Title the plot\n",
    "plt.title('Distance From Last Transaction Distribution')\n",
    "\n",
    "# Show the plot\n",
    "plt.show()"
   ]
  },
  {
   "cell_type": "markdown",
   "id": "a3c57966-3519-4d6d-afeb-7fd9c482f036",
   "metadata": {},
   "source": [
    "Prompt: Show a histogram with ratio_to_median_purchase_price, having 30 bins, Ratio to Median Purchase Price Distribution as the title, and show the plot.\n",
    "\n",
    "AI: ChatGPT-4o"
   ]
  },
  {
   "cell_type": "code",
   "execution_count": null,
   "id": "da556fd5-5fae-4630-8354-d3ade3e584f8",
   "metadata": {},
   "outputs": [],
   "source": [
    "# Create a histogram\n",
    "plt.hist(transaction_data_cleaned['ratio_to_median_purchase_price'], bins=30)\n",
    "\n",
    "# Title the plot\n",
    "plt.title('Ratio to Median Purchase Price Distribution')\n",
    "\n",
    "# Show the plot\n",
    "plt.show()"
   ]
  },
  {
   "cell_type": "markdown",
   "id": "732a2a4f-065e-427a-9fcd-293c0685de42",
   "metadata": {},
   "source": [
    "Prompt: Make a bar plot with used_pin_number as the x-axis, fraud as the hue, a green and red palette, Transactions with PIN vs Fraudulent Transactions as the title, Used PIN labeled on the x-axis, Count labeled on the y-axis, make a key titled Fraud and Non-Fraudulent and Fraudulent as the labels, and show the plot.\n",
    "\n",
    "AI: ChatGPT-4o"
   ]
  },
  {
   "cell_type": "code",
   "execution_count": null,
   "id": "2f1f49b2-0eec-4c21-b52c-7494038d77cc",
   "metadata": {},
   "outputs": [],
   "source": [
    "# Create the bar plot\n",
    "sns.countplot(x='used_pin_number', hue='fraud', data=transaction_data_cleaned, palette=['green', 'red'])\n",
    "\n",
    "# Title the plot\n",
    "plt.title('Transactions with PIN vs Fraudulent Transactions')\n",
    "\n",
    "# Label the axes\n",
    "plt.xlabel('Used PIN')\n",
    "plt.ylabel('Count')\n",
    "\n",
    "# Create a legend with custom labels\n",
    "plt.legend(title='Fraud', labels=['Non-Fraudulent', 'Fraudulent'])\n",
    "\n",
    "# Show the plot\n",
    "plt.show()"
   ]
  },
  {
   "cell_type": "markdown",
   "id": "48ec8674-e53c-4b2c-bb65-6b297e537a7a",
   "metadata": {},
   "source": [
    "Prompt: Called df_pin_fraud, group by used_pin_number and fraud with value counts normalized, unstacked, and multiplied by 100. Then created a plot with bar as the kind, stacked, green and red color, and a 5, 3 figsize. Title this plot Percentage of Fraudulent Transactions with PIN Usage, label the x-axis Used PIN, label the y-axis Percentage and legend it by making the title Fraud and the labels Non-Fraudulent and Fraudulent. Lastly, show the plot.\n",
    "\n",
    "AI: ChatGPT-4o"
   ]
  },
  {
   "cell_type": "code",
   "execution_count": null,
   "id": "465bd087-7bc2-48d2-af42-553653ef569c",
   "metadata": {},
   "outputs": [],
   "source": [
    "# Group by used_pin_number and fraud, then calculate value counts, normalize, and convert to percentage\n",
    "df_pin_fraud = (\n",
    "    transaction_data_cleaned.groupby(['used_pin_number'])['fraud']\n",
    "    .value_counts(normalize=True)\n",
    "    .unstack()\n",
    "    * 100\n",
    ")\n",
    "\n",
    "# Plot the data\n",
    "df_pin_fraud.plot(\n",
    "    kind='bar',\n",
    "    stacked=True,\n",
    "    color=['green', 'red'],\n",
    "    figsize=(5, 3)\n",
    ")\n",
    "\n",
    "# Add title and labels\n",
    "plt.title('Percentage of Fraudulent Transactions with PIN Usage')\n",
    "plt.xlabel('Used PIN')\n",
    "plt.ylabel('Percentage')\n",
    "\n",
    "# Customize the legend\n",
    "plt.legend(title='Fraud', labels=['Non-Fraudulent', 'Fraudulent'])\n",
    "\n",
    "# Show the plot\n",
    "plt.show()"
   ]
  },
  {
   "cell_type": "markdown",
   "id": "11da2af3-f6c0-4f6a-abde-1680cdb1d712",
   "metadata": {},
   "source": [
    "Prompt: Make a figure with figsize 5,3, a count plot with repeat_retailer as the x-value, fraud as the hue, and green and red as the hue. Make the title Transactions with Repeat Retailer vs Fraudulent Transactions, Repeat Retailer the x label, Count the y label, and legend it by making Fraud the title, and Non-Fraudulent and Fraudulent the labels. Show the plot.\n",
    "\n",
    "Call a groupby that is named df_retailer_fraud and is grouped by repeat_retailer and then fraud and counts the values with a True normalize, adds and unstack and multiply this line by 100. Then use this to make a plot with bar as the kind, True for stacked, green and red as the color and a 5,3 figsize. Make the title Percentage of Fraudulent Transactions with Repeat Retailer, Repeat Retailer the x lable, Percentage as the y label, and legend it with Fraud as the title and Non-Fraudulent and Fraudulent as the labels and then show the plot.\n",
    "\n",
    "AI: ChatGPT-4o"
   ]
  },
  {
   "cell_type": "code",
   "execution_count": null,
   "id": "ad5ae1c1-1b50-4b29-b1fb-aed2eea16bc6",
   "metadata": {},
   "outputs": [],
   "source": [
    "# Set the figure size\n",
    "plt.figure(figsize=(5, 3))\n",
    "\n",
    "# Create a count plot\n",
    "sns.countplot(\n",
    "    x='repeat_retailer',\n",
    "    hue='fraud',\n",
    "    data=transaction_data_cleaned,\n",
    "    palette=['green', 'red']\n",
    ")\n",
    "\n",
    "# Add title and labels\n",
    "plt.title('Transactions with Repeat Retailer vs Fraudulent Transactions')\n",
    "plt.xlabel('Repeat Retailer')\n",
    "plt.ylabel('Count')\n",
    "\n",
    "# Customize the legend\n",
    "plt.legend(title='Fraud', labels=['Non-Fraudulent', 'Fraudulent'])\n",
    "\n",
    "# Show the plot\n",
    "plt.show()\n",
    "\n",
    "# Group by repeat_retailer and fraud, normalize, unstack, and multiply by 100\n",
    "df_retailer_fraud = (\n",
    "    transaction_data_cleaned.groupby(['repeat_retailer'])['fraud']\n",
    "    .value_counts(normalize=True)\n",
    "    .unstack()\n",
    "    * 100\n",
    ")\n",
    "\n",
    "# Plot the data\n",
    "df_retailer_fraud.plot(\n",
    "    kind='bar',\n",
    "    stacked=True,\n",
    "    color=['green', 'red'],\n",
    "    figsize=(5, 3)\n",
    ")\n",
    "\n",
    "# Add title and labels\n",
    "plt.title('Percentage of Fraudulent Transactions with Repeat Retailer')\n",
    "plt.xlabel('Repeat Retailer')\n",
    "plt.ylabel('Percentage')\n",
    "\n",
    "# Customize the legend\n",
    "plt.legend(title='Fraud', labels=['Non-Fraudulent', 'Fraudulent'])\n",
    "\n",
    "# Show the plot\n",
    "plt.show()"
   ]
  },
  {
   "cell_type": "markdown",
   "id": "51478f4c-e255-4b2a-baa7-f8cf0209494a",
   "metadata": {},
   "source": [
    "Prompt: Make a figure with figsize 5,3, a count plot with used_chip as the x-value, fraud as the hue, and green and red as the palette. Make the title Transactions with Chip vs Fraudulent Transactions, Used Chip the x label, Count the y label, and legend it by making Fraud the title, and Non-Fraudulent and Fraudulent the labels. Show the plot.\n",
    "\n",
    "Call a groupby that is named df_chip_fraud and is grouped by used_chip and then fraud and counts the values with a True normalize, adds an unstack and multiply this line by 100. Then use this to make a plot with bar as the kind, True for stacked, green and red as the color and a 5,3 figsize. Make the title Percentage of Fraudulent Transactions with Chip Usage, Used Chip as the x label, Percentage as the y label, and legend it with Fraud as the title and Non-Fraudulent and Fraudulent as the labels and then show the plot.\n",
    "\n",
    "AI: ChatGPT-4o"
   ]
  },
  {
   "cell_type": "code",
   "execution_count": null,
   "id": "05323adf-37c1-4a03-8056-ae24ce7f355e",
   "metadata": {},
   "outputs": [],
   "source": [
    "# Set the figure size\n",
    "plt.figure(figsize=(5, 3))\n",
    "\n",
    "# Create a count plot\n",
    "sns.countplot(\n",
    "    x='used_chip',\n",
    "    hue='fraud',\n",
    "    data=transaction_data_cleaned,\n",
    "    palette=['green', 'red']\n",
    ")\n",
    "\n",
    "# Add title and labels\n",
    "plt.title('Transactions with Chip vs Fraudulent Transactions')\n",
    "plt.xlabel('Used Chip')\n",
    "plt.ylabel('Count')\n",
    "\n",
    "# Customize the legend\n",
    "plt.legend(title='Fraud', labels=['Non-Fraudulent', 'Fraudulent'])\n",
    "\n",
    "# Show the plot\n",
    "plt.show()\n",
    "\n",
    "# Group by used_chip and fraud, normalize, unstack, and multiply by 100\n",
    "df_chip_fraud = (\n",
    "    transaction_data_cleaned.groupby(['used_chip'])['fraud']\n",
    "    .value_counts(normalize=True)\n",
    "    .unstack()\n",
    "    * 100\n",
    ")\n",
    "\n",
    "# Plot the data\n",
    "df_chip_fraud.plot(\n",
    "    kind='bar',\n",
    "    stacked=True,\n",
    "    color=['green', 'red'],\n",
    "    figsize=(5, 3)\n",
    ")\n",
    "\n",
    "# Add title and labels\n",
    "plt.title('Percentage of Fraudulent Transactions with Chip Usage')\n",
    "plt.xlabel('Used Chip')\n",
    "plt.ylabel('Percentage')\n",
    "\n",
    "# Customize the legend\n",
    "plt.legend(title='Fraud', labels=['Non-Fraudulent', 'Fraudulent'])\n",
    "\n",
    "# Show the plot\n",
    "plt.show()"
   ]
  },
  {
   "cell_type": "markdown",
   "id": "3f87a3de-78e3-46e8-85f6-194bee9a4995",
   "metadata": {},
   "source": [
    "Prompt: Make a figure with figsize 5,3, a count plot with blanks as the data, x-value, hue, and green and red as the palette. Make the title Transactions with Online Order vs Fraudulent Transactions, Online Order the x label, Count the y label, and legend it by making Fraud the title, and Non-Fraudulent and Fraudulent the labels. Show the plot.\n",
    "\n",
    "Call a groupby that is named df_online_order_fraud and is grouped by online_order and then fraud and counts the values with a True normalize, adds an unstack and multiply this line by 100. Then use this to make a plot with bar as the kind, True for stacked, green and red as the color and a 10,6 figsize. Make the title Percentage of Fraudulent Transactions with Online Order, Online Order as the x label, Percentage as the y label, and legend it with Fraud as the title and Non-Fraudulent and Fraudulent as the labels and then show the plot.\n",
    "\n",
    "AI: ChatGPT-4o"
   ]
  },
  {
   "cell_type": "code",
   "execution_count": null,
   "id": "e83bc327-41f8-4919-a1a8-148dbf68e3ef",
   "metadata": {},
   "outputs": [],
   "source": [
    "# Set the figure size\n",
    "plt.figure(figsize=(5, 3))\n",
    "\n",
    "# Create a count plot with placeholders\n",
    "sns.countplot(\n",
    "    x='',       # Placeholder for the x-axis value\n",
    "    hue='',     # Placeholder for the hue (categorical variable)\n",
    "    data='',    # Placeholder for the dataset\n",
    "    palette=['green', 'red']\n",
    ")\n",
    "\n",
    "# Add title and labels\n",
    "plt.title('Transactions with Online Order vs Fraudulent Transactions')\n",
    "plt.xlabel('Online Order')\n",
    "plt.ylabel('Count')\n",
    "\n",
    "# Customize the legend\n",
    "plt.legend(title='Fraud', labels=['Non-Fraudulent', 'Fraudulent'])\n",
    "\n",
    "# Show the plot\n",
    "plt.show()\n",
    "\n",
    "# Group by online_order and fraud, normalize, unstack, and multiply by 100\n",
    "df_online_order_fraud = (\n",
    "    transaction_data_cleaned.groupby(['online_order'])['fraud']\n",
    "    .value_counts(normalize=True)\n",
    "    .unstack()\n",
    "    * 100\n",
    ")\n",
    "\n",
    "# Plot the data\n",
    "df_online_order_fraud.plot(\n",
    "    kind='bar',\n",
    "    stacked=True,\n",
    "    color=['green', 'red'],\n",
    "    figsize=(10, 6)\n",
    ")\n",
    "\n",
    "# Add title and labels\n",
    "plt.title('Percentage of Fraudulent Transactions with Online Order')\n",
    "plt.xlabel('Online Order')\n",
    "plt.ylabel('Percentage')\n",
    "\n",
    "# Customize the legend\n",
    "plt.legend(title='Fraud', labels=['Non-Fraudulent', 'Fraudulent'])\n",
    "\n",
    "# Show the plot\n",
    "plt.show()"
   ]
  },
  {
   "cell_type": "markdown",
   "id": "dac51f9f-b01d-4d0a-91cd-058d3e42bf4d",
   "metadata": {},
   "source": [
    "Prompt: Create a figure with figsize 10,6, then make a scatter plot called scatter with distance_from_home as the x-axis, ratio_to_median_purchase_price as the y-axis, fraud as the hue, and 0: 'green', 1: 'red' as the palette. Make the title Fraudulent vs Non-Fraudulent Transactions: Distance from Home vs Ratio to Median Purchase Price, the x-label Distance from Home, the y-label Ratio to Median Purchase Price, and show the plot.\n",
    "\n",
    "AI: ChatGPT-4o"
   ]
  },
  {
   "cell_type": "code",
   "execution_count": null,
   "id": "5ef7a6a6-c65c-4eea-bb32-92721b4742de",
   "metadata": {},
   "outputs": [],
   "source": [
    "# Set the figure size\n",
    "plt.figure(figsize=(10, 6))\n",
    "\n",
    "# Create the scatter plot\n",
    "scatter = sns.scatterplot(\n",
    "    x='distance_from_home',\n",
    "    y='ratio_to_median_purchase_price',\n",
    "    hue='fraud',\n",
    "    data=transaction_data_cleaned,\n",
    "    palette={0: 'green', 1: 'red'}\n",
    ")\n",
    "\n",
    "# Add title and labels\n",
    "scatter.set_title('Fraudulent vs Non-Fraudulent Transactions: Distance from Home vs Ratio to Median Purchase Price')\n",
    "scatter.set_xlabel('Distance from Home')\n",
    "scatter.set_ylabel('Ratio to Median Purchase Price')\n",
    "\n",
    "# Show the plot\n",
    "plt.show()"
   ]
  },
  {
   "cell_type": "markdown",
   "id": "d1845a4d-8eed-40bc-a28a-e42c9d944fbb",
   "metadata": {},
   "source": [
    "Prompt: Create a figure with figsize 10,6, then make a scatter plot called scatter with distance_from_home as the x-axis, distance_from_last_transaction as the y-axis, fraud as the hue, and 0: 'green', 1: 'red' as the palette. Make the title Fraudulent vs Non-Fraudulent Transactions: Distance from Home vs Distance from Last Transaction, the x-label Distance from Home, the y-label Distance from Last Transaction, and show the plot.\n",
    "\n",
    "AI: ChatGPT-4o"
   ]
  },
  {
   "cell_type": "code",
   "execution_count": null,
   "id": "30c9598a-3885-49b8-9376-bcb228e0c7f7",
   "metadata": {},
   "outputs": [],
   "source": [
    "# Set the figure size\n",
    "plt.figure(figsize=(10, 6))\n",
    "\n",
    "# Create the scatter plot\n",
    "scatter = sns.scatterplot(\n",
    "    x='distance_from_home',\n",
    "    y='distance_from_last_transaction',\n",
    "    hue='fraud',\n",
    "    data=transaction_data_cleaned,\n",
    "    palette={0: 'green', 1: 'red'}\n",
    ")\n",
    "\n",
    "# Add title and labels\n",
    "scatter.set_title('Fraudulent vs Non-Fraudulent Transactions: Distance from Home vs Distance from Last Transaction')\n",
    "scatter.set_xlabel('Distance from Home')\n",
    "scatter.set_ylabel('Distance from Last Transaction')\n",
    "\n",
    "# Show the plot\n",
    "plt.show()"
   ]
  },
  {
   "cell_type": "markdown",
   "id": "cb6c07f5-c6dd-4af2-be8c-45b3b1e19188",
   "metadata": {},
   "source": [
    "Prompt: Create a figure with figsize 10,6, then make a scatter plot called scatter with distance_from_last_transaction as the x-axis, placeholder blanks for the y-axis, hue, and 0: 'green', 1: 'red' as the palette. Make the title Fraudulent vs Non-Fraudulent Transactions: Distance from Last Transaction vs Ratio to Median Purchase Price, the x-label Distance from Last Transaction, the y-label Ratio to Median Purchase Price, and show the plot.\n",
    "\n",
    "AI: ChatGPT-4o"
   ]
  },
  {
   "cell_type": "code",
   "execution_count": null,
   "id": "241617e9-d1c7-4df8-846e-941a01e41c0f",
   "metadata": {},
   "outputs": [],
   "source": [
    "# Set the figure size\n",
    "plt.figure(figsize=(10, 6))\n",
    "\n",
    "# Create the scatter plot with placeholders\n",
    "scatter = sns.scatterplot(\n",
    "    x='distance_from_last_transaction',\n",
    "    y='',  # Placeholder for the y-axis\n",
    "    hue='',  # Placeholder for the hue\n",
    "    data=transaction_data_cleaned,\n",
    "    palette={0: 'green', 1: 'red'}\n",
    ")\n",
    "\n",
    "# Add title and labels\n",
    "scatter.set_title('Fraudulent vs Non-Fraudulent Transactions: Distance from Last Transaction vs Ratio to Median Purchase Price')\n",
    "scatter.set_xlabel('Distance from Last Transaction')\n",
    "scatter.set_ylabel('Ratio to Median Purchase Price')\n",
    "\n",
    "# Show the plot\n",
    "plt.show()"
   ]
  },
  {
   "cell_type": "markdown",
   "id": "f5d5731d-d965-40e3-9d5c-b6742ed49442",
   "metadata": {},
   "source": [
    "Prompt: Select features named X and y where the X feature drops fraud and has an axis of 1 and the y feature uses fraud.\n",
    "\n",
    "Split the features into train and test sets that have a test_size of 0.2, random_state of 42, and stratify with y.\n",
    "\n",
    "AI: ChatGPT-4o"
   ]
  },
  {
   "cell_type": "code",
   "execution_count": null,
   "id": "aa2f3d36-b6b5-4ddb-aae1-12ba4c41c7a4",
   "metadata": {},
   "outputs": [],
   "source": [
    "# Select features X and y\n",
    "X = transaction_data_cleaned.drop('fraud', axis=1)  # Dropping 'fraud' from the features\n",
    "y = transaction_data_cleaned['fraud']  # Using 'fraud' as the target variable\n",
    "\n",
    "# Split the dataset into training and test sets\n",
    "from sklearn.model_selection import train_test_split\n",
    "\n",
    "X_train, X_test, y_train, y_test = train_test_split(\n",
    "    X, y, \n",
    "    test_size=0.2,    # 20% for test set\n",
    "    random_state=42,  # For reproducibility\n",
    "    stratify=y        # Ensure that the class distribution is similar in both sets\n",
    ")"
   ]
  },
  {
   "cell_type": "markdown",
   "id": "4a7fccb3-50b0-45c1-8402-ea779a97a44b",
   "metadata": {},
   "source": [
    "Prompt: Make a never fraud model that is called y_pred_never_fraud and have it multiply 0 by the length of y_test. then print the first 100 predictions of this model.\n",
    "\n",
    "AI: ChatGPT-4o"
   ]
  },
  {
   "cell_type": "code",
   "execution_count": null,
   "id": "a703b6d1-2984-4fbc-bd4e-25d48d89e496",
   "metadata": {},
   "outputs": [],
   "source": [
    "# Create a model that always predicts 0 (never fraud)\n",
    "y_pred_never_fraud = [0] * len(y_test)  # Multiply 0 by the length of y_test\n",
    "\n",
    "# Print the first 100 predictions\n",
    "print(y_pred_never_fraud[:100])"
   ]
  },
  {
   "cell_type": "markdown",
   "id": "7e69ac8e-dff3-4953-b44e-c8e71881bf6b",
   "metadata": {},
   "source": [
    "Prompt: Make a knn classifier that is named knn with n_neighbors being 3 and then fit the model by the train features. Make predictions on the X_test and name it y_pred_knn. Print the first 100 of the predictions.\n",
    "\n",
    "AI: ChatGPT-4o"
   ]
  },
  {
   "cell_type": "code",
   "execution_count": null,
   "id": "b85c6102-69ba-4c57-8bf7-b30b07e27250",
   "metadata": {},
   "outputs": [],
   "source": [
    "from sklearn.neighbors import KNeighborsClassifier\n",
    "\n",
    "# Initialize the KNN classifier with 3 neighbors\n",
    "knn = KNeighborsClassifier(n_neighbors=3)\n",
    "\n",
    "# Fit the model using the training data\n",
    "knn.fit(X_train, y_train)\n",
    "\n",
    "# Make predictions on the test set\n",
    "y_pred_knn = knn.predict(X_test)\n",
    "\n",
    "# Print the first 100 predictions\n",
    "print(y_pred_knn[:100])"
   ]
  },
  {
   "cell_type": "markdown",
   "id": "a0b72d75-7141-453b-8dfc-d7a5c0837c03",
   "metadata": {},
   "source": [
    "Prompt: Make a confusion matrix model named conf_matric_never_fraud that uses y_test and y_pred_never_fraud. Create a heatmap that has True as the annot, d as the fmt, Reds as the cmap, and True as the cbar. Make sure the title is Confusion Matrix - Never Fraud Model, the x-label is Predicted, the y-label is Actual, and show the plot. Lastly, print the classification report for y_test and y_pred_never_fraud.\n",
    "\n",
    "AI: ChatGPT-4o"
   ]
  },
  {
   "cell_type": "code",
   "execution_count": null,
   "id": "feca590d-dd85-4ee5-a7c8-849a7a4fbabb",
   "metadata": {},
   "outputs": [],
   "source": [
    "# Create the confusion matrix for the never fraud model\n",
    "conf_matric_never_fraud = confusion_matrix(y_test, y_pred_never_fraud)\n",
    "\n",
    "# Plot the confusion matrix as a heatmap\n",
    "sns.heatmap(conf_matric_never_fraud, annot=True, fmt='d', cmap='Reds', cbar=True)\n",
    "\n",
    "# Add title and labels\n",
    "plt.title('Confusion Matrix - Never Fraud Model')\n",
    "plt.xlabel('Predicted')\n",
    "plt.ylabel('Actual')\n",
    "\n",
    "# Show the plot\n",
    "plt.show()\n",
    "\n",
    "# Print the classification report\n",
    "print(classification_report(y_test, y_pred_never_fraud))"
   ]
  },
  {
   "cell_type": "markdown",
   "id": "eb59cf77-e613-4276-8b8c-741f3b5e41d6",
   "metadata": {},
   "source": [
    "Prompt: Make a confusion matrix model for the k-NN named conf_matrix_knn that uses y_test and y_pred_knn. Create a heatmap that has True as the annot, d as the fmt, Blues as the cmap, and True as the cbar. Make sure the title is Confusion Matrix - k-NN, the x-label is Predicted, the y-label is Actual, and show the plot. Lastly, print the classification report for y_test and y_pred_never_fraud.\n",
    "\n",
    "AI: ChatGPT-4o"
   ]
  },
  {
   "cell_type": "code",
   "execution_count": null,
   "id": "a728a463-0f95-4038-84ca-00871afa7cbb",
   "metadata": {},
   "outputs": [],
   "source": [
    "# Create the confusion matrix for the k-NN model\n",
    "conf_matrix_knn = confusion_matrix(y_test, y_pred_knn)\n",
    "\n",
    "# Plot the confusion matrix as a heatmap\n",
    "sns.heatmap(conf_matrix_knn, annot=True, fmt='d', cmap='Blues', cbar=True)\n",
    "\n",
    "# Add title and labels\n",
    "plt.title('Confusion Matrix - k-NN')\n",
    "plt.xlabel('Predicted')\n",
    "plt.ylabel('Actual')\n",
    "\n",
    "# Show the plot\n",
    "plt.show()\n",
    "\n",
    "# Print the classification report for the k-NN model\n",
    "print(classification_report(y_test, y_pred_knn))"
   ]
  },
  {
   "cell_type": "markdown",
   "id": "16f49fb5-7b57-4af8-9b5f-35710c7be05c",
   "metadata": {},
   "source": [
    "Prompt: Compute some metrics for Never Fraud by first naming accuracy_never_fraud for the accuracy score, precision_never_fraud for the precision score making sure there is 0 for the zero_division, recall_never_fraud for the recall_score, and f1_never_fraud for the f1_score.\n",
    "\n",
    "Now, do some computing for the k-NN naming accuracy score accuracy_knn, precision_knn for precision score, recall_knn for recall_score, and f1_knn for f1_score.\n",
    "\n",
    "Prepare the data by first calling all metrics and naming them metrics, name all the knn's knn_scores and the never fraud's never_fraud_scores.\n",
    "\n",
    "Name the dataframe comparison_transaction_data and call the metrics, k-NN, and never Fraud.\n",
    "\n",
    "For plotting, name the subplots fig, ax and have the figsize be 10,6. Then make sure bar_width is 0.35 and index calls ranged with the length of metrics. Make sure the first ax.bar is named bar 1 and the ax.bar is named bar2 and uses red as the color. Also name the set_title Model Performance Comparison. Also, call the set_ylim\n",
    "\n",
    "AI: ChatGPT-4o"
   ]
  },
  {
   "cell_type": "code",
   "execution_count": null,
   "id": "0bd010f8-a1a4-4a55-8257-f649cb9df4db",
   "metadata": {},
   "outputs": [],
   "source": [
    "# Metrics for the Never Fraud model\n",
    "accuracy_never_fraud = accuracy_score(y_test, y_pred_never_fraud)\n",
    "precision_never_fraud = precision_score(y_test, y_pred_never_fraud, zero_division=0)\n",
    "recall_never_fraud = recall_score(y_test, y_pred_never_fraud)\n",
    "f1_never_fraud = f1_score(y_test, y_pred_never_fraud)\n",
    "\n",
    "# Metrics for the k-NN model\n",
    "accuracy_knn = accuracy_score(y_test, y_pred_knn)\n",
    "precision_knn = precision_score(y_test, y_pred_knn, zero_division=0)\n",
    "recall_knn = recall_score(y_test, y_pred_knn)\n",
    "f1_knn = f1_score(y_test, y_pred_knn)\n",
    "\n",
    "# Prepare the names of the metrics\n",
    "metrics = ['Accuracy', 'Precision', 'Recall', 'F1 Score']\n",
    "\n",
    "# KNN scores (references to the metric names for k-NN)\n",
    "knn_scores = [accuracy_knn, precision_knn, recall_knn, f1_knn]\n",
    "\n",
    "# Never Fraud scores (references to the metric names for Never Fraud)\n",
    "never_fraud_scores = [accuracy_never_fraud, precision_never_fraud, recall_never_fraud, f1_never_fraud]\n",
    "\n",
    "# Create the dataframe comparison_transaction_data\n",
    "comparison_transaction_data = pd.DataFrame({\n",
    "    'Metric': metrics,\n",
    "    'k-NN': knn_scores,\n",
    "    'Never Fraud': never_fraud_scores\n",
    "})\n",
    "\n",
    "# Create subplots\n",
    "fig, ax = plt.subplots(figsize=(10, 6))\n",
    "\n",
    "# Bar width\n",
    "bar_width = 0.35\n",
    "\n",
    "# Index range based on length of metrics\n",
    "index = range(len(metrics))\n",
    "\n",
    "# Plot the bars for k-NN (bar1) and Never Fraud (bar2)\n",
    "bar1 = ax.bar(index, knn_scores, bar_width, label='k-NN', color='green')\n",
    "bar2 = ax.bar([i + bar_width for i in index], never_fraud_scores, bar_width, label='Never Fraud', color='red')\n",
    "\n",
    "# Set title\n",
    "ax.set_title('Model Performance Comparison')\n",
    "\n",
    "# Set y-axis limits\n",
    "ax.set_ylim(0, 1)\n",
    "\n",
    "# Label x-axis and y-axis\n",
    "ax.set_xlabel('Metrics')\n",
    "ax.set_ylabel('Score')\n",
    "\n",
    "# Set the x-ticks to the middle of the grouped bars\n",
    "ax.set_xticks([i + bar_width / 2 for i in index])\n",
    "ax.set_xticklabels(metrics)\n",
    "\n",
    "# Add legend\n",
    "ax.legend()\n",
    "\n",
    "# Show the plot\n",
    "plt.show()"
   ]
  }
 ],
 "metadata": {
  "kernelspec": {
   "display_name": "Python 3 (ipykernel)",
   "language": "python",
   "name": "python3"
  },
  "language_info": {
   "codemirror_mode": {
    "name": "ipython",
    "version": 3
   },
   "file_extension": ".py",
   "mimetype": "text/x-python",
   "name": "python",
   "nbconvert_exporter": "python",
   "pygments_lexer": "ipython3",
   "version": "3.9.7"
  }
 },
 "nbformat": 4,
 "nbformat_minor": 5
}
